{
 "cells": [
  {
   "cell_type": "code",
   "execution_count": 1,
   "metadata": {},
   "outputs": [],
   "source": [
    "import numpy as np\n",
    "import pandas as pd\n",
    "import matplotlib.pyplot as plt\n",
    "from sklearn.cluster import KMeans"
   ]
  },
  {
   "cell_type": "code",
   "execution_count": 2,
   "metadata": {},
   "outputs": [],
   "source": [
    "X = pd.read_csv('iris.csv', header=None, usecols=[0, 1, 2, 3]).values"
   ]
  },
  {
   "cell_type": "code",
   "execution_count": 3,
   "metadata": {},
   "outputs": [],
   "source": [
    "y = pd.read_csv('iris.csv', header=None, usecols=[4]).values"
   ]
  },
  {
   "cell_type": "code",
   "execution_count": 4,
   "metadata": {},
   "outputs": [],
   "source": [
    "def initialize_centroids(data, k_centroids):\n",
    "    '''Randomly picks k elements from data as centroids'''\n",
    "    \n",
    "    index = np.random.choice(data.shape[0], k_centroids)\n",
    "    return data[index]\n",
    "\n",
    "def find_closest_centroid(data, centroids):\n",
    "    '''assign each data element the closest centroid from k centroids'''\n",
    "    \n",
    "    closest_centroid_index = np.zeros(data.shape[0])\n",
    "\n",
    "    for ind in range(data.shape[0]):\n",
    "        closest_centroid_index[ind] = np.argmin(np.sum(np.square(data[ind] - centroids), axis=1))\n",
    "    \n",
    "    return closest_centroid_index\n",
    "\n",
    "def compute_centroids(data, closest_centroid_index, n_centroids):\n",
    "    new_centroids = np.zeros((n_centroids, data.shape[1]))\n",
    "    n_neighbours = np.zeros(n_centroids)\n",
    "    \n",
    "    for ind in range(data.shape[0]):\n",
    "        centroid_index = int(closest_centroid_index[ind])\n",
    "        new_centroids[centroid_index] += data[ind]\n",
    "        n_neighbours[centroid_index] += 1\n",
    "        \n",
    "    for ind in range(n_centroids):\n",
    "        new_centroids[ind] /= n_neighbours[ind]\n",
    "        \n",
    "    return new_centroids"
   ]
  },
  {
   "cell_type": "code",
   "execution_count": 5,
   "metadata": {},
   "outputs": [],
   "source": [
    "def compute_cost(data, centroids, closest_centroids):\n",
    "    cost = 0\n",
    "    for i in range(data.shape[0]):\n",
    "        cost += np.sum(np.square(data[i] - centroids[int(closest_centroids[i])]))\n",
    "    return cost"
   ]
  },
  {
   "cell_type": "code",
   "execution_count": 6,
   "metadata": {},
   "outputs": [],
   "source": [
    "def k_means(data, k_centroids, iterations, n_init):\n",
    "    min_cost = None\n",
    "    r_centroids = None\n",
    "    r_closest_centroid = None\n",
    "    \n",
    "    for _ in range(n_init):\n",
    "        centroids = initialize_centroids(data, k_centroids)\n",
    "        for i in range(iterations):\n",
    "            closest_centroid = find_closest_centroid(data, centroids)\n",
    "            centroids = compute_centroids(data, closest_centroid, k_centroids)\n",
    "        temp_cost = compute_cost(data, centroids, closest_centroid)\n",
    "        \n",
    "        if min_cost:\n",
    "            if min_cost > temp_cost:\n",
    "                r_centroids = centroids\n",
    "                r_closest_centroid = closest_centroid\n",
    "        else:\n",
    "            min_cost = temp_cost\n",
    "            r_centroids = centroids\n",
    "            r_closest_centroid = closest_centroid\n",
    "            \n",
    "    return r_centroids, r_closest_centroid"
   ]
  },
  {
   "cell_type": "code",
   "execution_count": 7,
   "metadata": {},
   "outputs": [],
   "source": [
    "max_cluster = 5\n",
    "cost_history = list()\n",
    "centroid_history = list()\n",
    "for k in range(1, max_cluster + 1):\n",
    "    centroids, closest_cent = k_means(X, k, 20, 10)\n",
    "    centroid_history.append(centroids)\n",
    "    cost_history.append(compute_cost(X, centroids, closest_cent))"
   ]
  },
  {
   "cell_type": "code",
   "execution_count": 8,
   "metadata": {},
   "outputs": [
    {
     "data": {
      "image/png": "[encoded data removed]",
      "text/plain": [
       "<Figure size 432x288 with 1 Axes>"
      ]
     },
     "metadata": {
      "needs_background": "light"
     },
     "output_type": "display_data"
    }
   ],
   "source": [
    "fig = plt.figure()\n",
    "plt.plot([k for k in range(1, max_cluster + 1)], cost_history, label=['x', 'y'])\n",
    "plt.xlabel = 'number of clusters'\n",
    "plt.ylabel = 'cost'\n",
    "# fig.savefig('k_means.jpg')"
   ]
  },
  {
   "cell_type": "code",
   "execution_count": 9,
   "metadata": {},
   "outputs": [
    {
     "name": "stderr",
     "output_type": "stream",
     "text": [
      "<ipython-input-4-964e439b716e>:27: RuntimeWarning: invalid value encountered in true_divide\n",
      "  new_centroids[ind] /= n_neighbours[ind]\n"
     ]
    }
   ],
   "source": [
    "centroids, closest_cent = k_means(X, 3, 20, 10)"
   ]
  },
  {
   "cell_type": "code",
   "execution_count": null,
   "metadata": {},
   "outputs": [],
   "source": []
  },
  {
   "cell_type": "code",
   "execution_count": 10,
   "metadata": {},
   "outputs": [],
   "source": [
    "from sklearn.datasets import make_moons, make_circles, make_classification"
   ]
  },
  {
   "cell_type": "code",
   "execution_count": 11,
   "metadata": {},
   "outputs": [],
   "source": [
    "circle_datasest = make_circles(200, shuffle=True, random_state=42)"
   ]
  },
  {
   "cell_type": "code",
   "execution_count": 13,
   "metadata": {},
   "outputs": [],
   "source": [
    "moon_dataset = make_moons(200, shuffle=True, random_state=42)"
   ]
  },
  {
   "cell_type": "code",
   "execution_count": 14,
   "metadata": {},
   "outputs": [
    {
     "data": {
      "text/plain": [
       "numpy.ndarray"
      ]
     },
     "execution_count": 14,
     "metadata": {},
     "output_type": "execute_result"
    }
   ],
   "source": [
    "type(moon_dataset[0])"
   ]
  },
  {
   "cell_type": "code",
   "execution_count": 15,
   "metadata": {},
   "outputs": [
    {
     "data": {
      "text/plain": [
       "<matplotlib.collections.PathCollection at 0x2b2a3072070>"
      ]
     },
     "execution_count": 15,
     "metadata": {},
     "output_type": "execute_result"
    },
    {
     "data": {
      "image/png": "[encoded data removed]",
      "text/plain": [
       "<Figure size 432x288 with 1 Axes>"
      ]
     },
     "metadata": {
      "needs_background": "light"
     },
     "output_type": "display_data"
    }
   ],
   "source": [
    "plt.scatter(moon_dataset[0][:, 0], moon_dataset[0][:, 1])"
   ]
  },
  {
   "cell_type": "code",
   "execution_count": 17,
   "metadata": {},
   "outputs": [],
   "source": [
    "m_cent, m_closest_cent = k_means(moon_dataset[0], 2, 20, 10)"
   ]
  },
  {
   "cell_type": "code",
   "execution_count": 18,
   "metadata": {},
   "outputs": [
    {
     "data": {
      "text/plain": [
       "<matplotlib.collections.PathCollection at 0x2b2a60dac10>"
      ]
     },
     "execution_count": 18,
     "metadata": {},
     "output_type": "execute_result"
    },
    {
     "data": {
      "image/png": "[encoded data removed]",
      "text/plain": [
       "<Figure size 432x288 with 1 Axes>"
      ]
     },
     "metadata": {
      "needs_background": "light"
     },
     "output_type": "display_data"
    }
   ],
   "source": [
    "plt.scatter(moon_dataset[0][:, 0], moon_dataset[0][:, 1])\n",
    "plt.scatter(m_cent[:, 0], m_cent[:, 1], color='r')"
   ]
  },
  {
   "cell_type": "code",
   "execution_count": 39,
   "metadata": {},
   "outputs": [
    {
     "data": {
      "image/png": "[encoded data removed]",
      "text/plain": [
       "<Figure size 432x288 with 1 Axes>"
      ]
     },
     "metadata": {
      "needs_background": "light"
     },
     "output_type": "display_data"
    }
   ],
   "source": [
    "clr = ''\n",
    "for i in range(200):\n",
    "    if m_closest_cent[i]:\n",
    "        clr = 'r'\n",
    "    else:\n",
    "        clr = 'b'\n",
    "    plt.scatter(moon_dataset[0][i, 0], moon_dataset[0][i, 1], color=clr)"
   ]
  },
  {
   "cell_type": "markdown",
   "metadata": {},
   "source": [
    "Circle"
   ]
  },
  {
   "cell_type": "code",
   "execution_count": 40,
   "metadata": {},
   "outputs": [
    {
     "data": {
      "text/plain": [
       "<matplotlib.collections.PathCollection at 0x2b2a667d370>"
      ]
     },
     "execution_count": 40,
     "metadata": {},
     "output_type": "execute_result"
    },
    {
     "data": {
      "image/png": "[encoded data removed]",
      "text/plain": [
       "<Figure size 432x288 with 1 Axes>"
      ]
     },
     "metadata": {
      "needs_background": "light"
     },
     "output_type": "display_data"
    }
   ],
   "source": [
    "plt.scatter(circle_datasest[0][:, 0], circle_datasest[0][:, 1])"
   ]
  },
  {
   "cell_type": "code",
   "execution_count": 42,
   "metadata": {},
   "outputs": [],
   "source": [
    "c_cent, c_closest_cent = k_means(circle_datasest[0], 2, 20, 10)"
   ]
  },
  {
   "cell_type": "code",
   "execution_count": 43,
   "metadata": {},
   "outputs": [
    {
     "data": {
      "image/png": "[encoded data removed]",
      "text/plain": [
       "<Figure size 432x288 with 1 Axes>"
      ]
     },
     "metadata": {
      "needs_background": "light"
     },
     "output_type": "display_data"
    }
   ],
   "source": [
    "clr = ''\n",
    "for i in range(200):\n",
    "    if c_closest_cent[i]:\n",
    "        clr = 'r'\n",
    "    else:\n",
    "        clr = 'b'\n",
    "    plt.scatter(circle_datasest[0][i, 0], circle_datasest[0][i, 1], color=clr)"
   ]
  },
  {
   "cell_type": "code",
   "execution_count": null,
   "metadata": {},
   "outputs": [],
   "source": []
  }
 ],
 "metadata": {
  "kernelspec": {
   "display_name": "Python 3",
   "language": "python",
   "name": "python3"
  },
  "language_info": {
   "codemirror_mode": {
    "name": "ipython",
    "version": 3
   },
   "file_extension": ".py",
   "mimetype": "text/x-python",
   "name": "python",
   "nbconvert_exporter": "python",
   "pygments_lexer": "ipython3",
   "version": "3.8.3rc1"
  }
 },
 "nbformat": 4,
 "nbformat_minor": 4
}
