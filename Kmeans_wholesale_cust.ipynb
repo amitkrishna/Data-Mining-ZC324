{
 "cells": [
  {
   "cell_type": "code",
   "execution_count": 1,
   "metadata": {},
   "outputs": [],
   "source": [
    "import numpy as np\n",
    "import pandas as pd\n",
    "import matplotlib.pyplot as plt\n",
    "from sklearn.cluster import KMeans\n",
    "from sklearn.preprocessing import StandardScaler"
   ]
  },
  {
   "cell_type": "code",
   "execution_count": 2,
   "metadata": {},
   "outputs": [],
   "source": [
    "X = pd.read_csv('Wholesale customers data.csv', ).values"
   ]
  },
  {
   "cell_type": "code",
   "execution_count": 3,
   "metadata": {},
   "outputs": [
    {
     "data": {
      "text/plain": [
       "array([[    2,     3, 12669,  9656,  7561,   214,  2674,  1338],\n",
       "       [    2,     3,  7057,  9810,  9568,  1762,  3293,  1776],\n",
       "       [    2,     3,  6353,  8808,  7684,  2405,  3516,  7844],\n",
       "       [    1,     3, 13265,  1196,  4221,  6404,   507,  1788],\n",
       "       [    2,     3, 22615,  5410,  7198,  3915,  1777,  5185],\n",
       "       [    2,     3,  9413,  8259,  5126,   666,  1795,  1451],\n",
       "       [    2,     3, 12126,  3199,  6975,   480,  3140,   545],\n",
       "       [    2,     3,  7579,  4956,  9426,  1669,  3321,  2566],\n",
       "       [    1,     3,  5963,  3648,  6192,   425,  1716,   750],\n",
       "       [    2,     3,  6006, 11093, 18881,  1159,  7425,  2098]],\n",
       "      dtype=int64)"
      ]
     },
     "execution_count": 3,
     "metadata": {},
     "output_type": "execute_result"
    }
   ],
   "source": [
    "X[:10]"
   ]
  },
  {
   "cell_type": "code",
   "execution_count": 4,
   "metadata": {},
   "outputs": [],
   "source": [
    "scaler = StandardScaler()\n",
    "X = scaler.fit_transform(X)"
   ]
  },
  {
   "cell_type": "code",
   "execution_count": 5,
   "metadata": {},
   "outputs": [
    {
     "data": {
      "text/plain": [
       "array([[ 1.44865163,  0.59066829,  0.05293319,  0.52356777, -0.04111489,\n",
       "        -0.58936716, -0.04356873, -0.06633906],\n",
       "       [ 1.44865163,  0.59066829, -0.39130197,  0.54445767,  0.17031835,\n",
       "        -0.27013618,  0.08640684,  0.08915105],\n",
       "       [ 1.44865163,  0.59066829, -0.44702926,  0.40853771, -0.0281571 ,\n",
       "        -0.13753572,  0.13323164,  2.24329255],\n",
       "       [-0.69029709,  0.59066829,  0.10011141, -0.62401993, -0.3929769 ,\n",
       "         0.6871443 , -0.49858822,  0.09341105],\n",
       "       [ 1.44865163,  0.59066829,  0.84023948, -0.05239645, -0.07935618,\n",
       "         0.17385884, -0.23191782,  1.29934689],\n",
       "       [ 1.44865163,  0.59066829, -0.20480553,  0.33406659, -0.29763704,\n",
       "        -0.49615501, -0.22813824, -0.02622403],\n",
       "       [ 1.44865163,  0.59066829,  0.00995035, -0.35231565, -0.10284877,\n",
       "        -0.53451222,  0.05428041, -0.34785425],\n",
       "       [ 1.44865163,  0.59066829, -0.34998145, -0.11398095,  0.15535895,\n",
       "        -0.28931479,  0.09228619,  0.36960125],\n",
       "       [-0.69029709,  0.59066829, -0.47790091, -0.2914094 , -0.18533618,\n",
       "        -0.54585441, -0.2447264 , -0.2750792 ],\n",
       "       [ 1.44865163,  0.59066829, -0.47449712,  0.7184949 ,  1.1514234 ,\n",
       "        -0.39448778,  0.95403053,  0.20346113]])"
      ]
     },
     "execution_count": 5,
     "metadata": {},
     "output_type": "execute_result"
    }
   ],
   "source": [
    "X[:10]"
   ]
  },
  {
   "cell_type": "code",
   "execution_count": 6,
   "metadata": {},
   "outputs": [],
   "source": [
    "def initialize_centroids(data, k_centroids):\n",
    "    '''Randomly picks k elements from data as centroids'''\n",
    "    \n",
    "    index = np.random.choice(data.shape[0], k_centroids)\n",
    "    return data[index]\n",
    "\n",
    "def find_closest_centroid(data, centroids):\n",
    "    '''assign each data element the closest centroid from k centroids'''\n",
    "    \n",
    "    closest_centroid_index = np.zeros(data.shape[0])\n",
    "\n",
    "    for ind in range(data.shape[0]):\n",
    "        closest_centroid_index[ind] = np.argmin(np.sum(np.square(data[ind] - centroids), axis=1))\n",
    "    \n",
    "    return closest_centroid_index\n",
    "\n",
    "def compute_centroids(data, closest_centroid_index, n_centroids):\n",
    "    new_centroids = np.zeros((n_centroids, data.shape[1]))\n",
    "    n_neighbours = np.zeros(n_centroids)\n",
    "    \n",
    "    for ind in range(data.shape[0]):\n",
    "        centroid_index = int(closest_centroid_index[ind])\n",
    "        new_centroids[centroid_index] += data[ind]\n",
    "        n_neighbours[centroid_index] += 1\n",
    "        \n",
    "    for ind in range(n_centroids):\n",
    "        new_centroids[ind] /= n_neighbours[ind]\n",
    "        \n",
    "    return new_centroids"
   ]
  },
  {
   "cell_type": "code",
   "execution_count": 7,
   "metadata": {},
   "outputs": [],
   "source": [
    "def k_means(data, k_centroids, iterations):\n",
    "    centroids = initialize_centroids(data, k_centroids)\n",
    "#     centroids_history = list()\n",
    "#     centroids_history.append(centroids)\n",
    "    \n",
    "    for i in range(iterations):\n",
    "        closest_centroid = find_closest_centroid(data, centroids)\n",
    "        centroids = compute_centroids(data, closest_centroid, k_centroids)\n",
    "#         centroids_history.append(centroids)\n",
    "    \n",
    "    return centroids, closest_centroid"
   ]
  },
  {
   "cell_type": "code",
   "execution_count": 8,
   "metadata": {},
   "outputs": [],
   "source": [
    "def compute_cost(data, centroids, closest_centroids):\n",
    "    cost = 0\n",
    "    for i in range(data.shape[0]):\n",
    "        cost += np.sum(np.square(data[i] - centroids[int(closest_centroids[i])]))\n",
    "    return cost"
   ]
  },
  {
   "cell_type": "code",
   "execution_count": null,
   "metadata": {},
   "outputs": [],
   "source": [
    "max_cluster = 20\n",
    "cost_history = list()\n",
    "centroid_history = list()\n",
    "for k in range(1, max_cluster + 1):\n",
    "    min_cost = None\n",
    "    temp_centroid = None\n",
    "    for _ in range(10):\n",
    "        centroids, closest_cent = k_means(X, k, 20)\n",
    "        cost = compute_cost(X, centroids, closest_cent)\n",
    "        if min_cost is None:\n",
    "            min_cost = cost\n",
    "            local_centroid = centroids\n",
    "        else:\n",
    "            if min_cost > cost:\n",
    "                min_cost = cost\n",
    "                local_centroid = centroids\n",
    "    cost_history.append(min_cost)\n",
    "    centroid_history.append(local_centroid)"
   ]
  },
  {
   "cell_type": "code",
   "execution_count": null,
   "metadata": {},
   "outputs": [],
   "source": [
    "fig = plt.figure()\n",
    "plt.plot([k for k in range(1, max_cluster + 1)], cost_history)\n",
    "fig.savefig('k_means_wholesale_cust.jpg')"
   ]
  },
  {
   "cell_type": "code",
   "execution_count": null,
   "metadata": {},
   "outputs": [],
   "source": []
  }
 ],
 "metadata": {
  "kernelspec": {
   "display_name": "Python 3",
   "language": "python",
   "name": "python3"
  },
  "language_info": {
   "codemirror_mode": {
    "name": "ipython",
    "version": 3
   },
   "file_extension": ".py",
   "mimetype": "text/x-python",
   "name": "python",
   "nbconvert_exporter": "python",
   "pygments_lexer": "ipython3",
   "version": "3.8.3rc1"
  }
 },
 "nbformat": 4,
 "nbformat_minor": 4
}
